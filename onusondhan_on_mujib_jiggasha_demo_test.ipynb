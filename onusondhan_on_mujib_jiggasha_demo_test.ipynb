{
  "nbformat": 4,
  "nbformat_minor": 0,
  "metadata": {
    "colab": {
      "provenance": []
    },
    "kernelspec": {
      "name": "python3",
      "display_name": "Python 3"
    },
    "language_info": {
      "name": "python"
    }
  },
  "cells": [
    {
      "cell_type": "code",
      "execution_count": null,
      "metadata": {
        "id": "HeO__9kvs5vf",
        "outputId": "ae9f6a38-c674-40bd-de59-62388f70d5b4",
        "colab": {
          "base_uri": "https://localhost:8080/"
        }
      },
      "outputs": [
        {
          "output_type": "stream",
          "name": "stdout",
          "text": [
            "\u001b[K     |████████████████████████████████| 5.8 MB 8.0 MB/s \n",
            "\u001b[K     |████████████████████████████████| 7.6 MB 31.6 MB/s \n",
            "\u001b[K     |████████████████████████████████| 182 kB 47.3 MB/s \n",
            "\u001b[?25h"
          ]
        }
      ],
      "source": [
        "!pip install transformers -q"
      ]
    },
    {
      "cell_type": "code",
      "source": [
        "model_location = \"/content/drive/MyDrive/DL_models/language_model_bn/xlm-roberta-large-squad2-test-1/afs_xlm_roberta\"\n"
      ],
      "metadata": {
        "id": "kks03pUJtFYN"
      },
      "execution_count": null,
      "outputs": []
    },
    {
      "cell_type": "code",
      "source": [
        "from google.colab import drive\n",
        "drive.mount('/content/drive')"
      ],
      "metadata": {
        "id": "TPBHYtZew8Tr",
        "outputId": "3863fb50-a238-4e7c-d088-7991bf2c3df3",
        "colab": {
          "base_uri": "https://localhost:8080/"
        }
      },
      "execution_count": null,
      "outputs": [
        {
          "output_type": "stream",
          "name": "stdout",
          "text": [
            "Mounted at /content/drive\n"
          ]
        }
      ]
    },
    {
      "cell_type": "code",
      "source": [
        "from transformers import  pipeline\n",
        "\n",
        "\n",
        "\n",
        "\n",
        "nlp = pipeline('question-answering', model=model_location, tokenizer=model_location)\n",
        "QA_input = {\n",
        "    'question': ' আপনার নাম কি ?',\n",
        "    'context': 'আমার নাম আসিফ ফয়সাল চৌধুরী। আমি ইসলামী বিশ্ববিদ্যালয়ে পড়ি। স্বাধীনতার পর এটিই প্রথম পাবলিক বিশ্ববিদ্যালয়। এটি কুষ্টিয়ায় অবস্থিত'\n",
        "}\n",
        "res = nlp(QA_input)\n",
        "res"
      ],
      "metadata": {
        "colab": {
          "base_uri": "https://localhost:8080/"
        },
        "id": "PDvqFjTptKVV",
        "outputId": "6d3fba67-9b3e-4d16-92ca-a00aa562012a"
      },
      "execution_count": null,
      "outputs": [
        {
          "output_type": "execute_result",
          "data": {
            "text/plain": [
              "{'score': 0.9999871253967285,\n",
              " 'start': 8,\n",
              " 'end': 28,\n",
              " 'answer': ' আসিফ ফয়সাল চৌধুরী।'}"
            ]
          },
          "metadata": {},
          "execution_count": 5
        }
      ]
    },
    {
      "cell_type": "code",
      "source": [
        "from transformers import  pipeline\n",
        "\n",
        "\n",
        "\n",
        "\n",
        "nlp = pipeline('question-answering', model=model_location, tokenizer=model_location)\n",
        "QA_input = {\n",
        "    'question': ' আপনি কোথায় পড়েন  ?',\n",
        "    'context': 'আমার নাম আসিফ ফয়সাল চৌধুরী। আমি ইসলামী বিশ্ববিদ্যালয়ে পড়ি। স্বাধীনতার পর এটিই প্রথম পাবলিক বিশ্ববিদ্যালয়। এটি কুষ্টিয়ায় অবস্থিত'\n",
        "}\n",
        "res = nlp(QA_input)\n",
        "res"
      ],
      "metadata": {
        "colab": {
          "base_uri": "https://localhost:8080/"
        },
        "id": "adwll78iuweA",
        "outputId": "9c3542d4-8bae-46b8-f1d8-bb6621111c57"
      },
      "execution_count": null,
      "outputs": [
        {
          "output_type": "execute_result",
          "data": {
            "text/plain": [
              "{'score': 0.9996316432952881,\n",
              " 'start': 32,\n",
              " 'end': 55,\n",
              " 'answer': ' ইসলামী বিশ্ববিদ্যালয়ে'}"
            ]
          },
          "metadata": {},
          "execution_count": 4
        }
      ]
    },
    {
      "cell_type": "code",
      "source": [
        "QA_input = {\n",
        "    'question': ' স্বাধীনতার পর প্রথম বিশ্ববিদ্যালয় কোনটি  ?',\n",
        "    'context': 'আমার নাম আসিফ ফয়সাল চৌধুরী। আমি ইসলামী বিশ্ববিদ্যালয়ে পড়ি। স্বাধীনতার পর এটিই প্রথম পাবলিক বিশ্ববিদ্যালয়। এটি কুষ্টিয়ায় অবস্থিত'\n",
        "}\n",
        "res = nlp(QA_input)\n",
        "res"
      ],
      "metadata": {
        "id": "yBSt-aFjygat",
        "outputId": "d608eb20-e18b-4313-8f16-e40ef9cf8e8e",
        "colab": {
          "base_uri": "https://localhost:8080/"
        }
      },
      "execution_count": null,
      "outputs": [
        {
          "output_type": "execute_result",
          "data": {
            "text/plain": [
              "{'score': 0.9992790222167969,\n",
              " 'start': 32,\n",
              " 'end': 55,\n",
              " 'answer': ' ইসলামী বিশ্ববিদ্যালয়ে'}"
            ]
          },
          "metadata": {},
          "execution_count": 10
        }
      ]
    },
    {
      "cell_type": "code",
      "source": [
        "context = \"গোপালগঞ্জ জেলার টুঙ্গিপাড়া গ্রামের এক বনেদি মুসলিম পরিবারে জন্মগ্রহণ করেন জাতির জনক বঙ্গবন্ধু শেখ মুজিবুর রহমান। পিতা শেখ লুৎফর রহমান ও মা সায়েরা খাতুন আদর করে তাকে খোকা বলে ডাকতেন। শেখ মুজিবুর রহমানের পূর্ব-পুরুষরা খ্যাতিমান আউলিয়া বায়েজিত বোস্তমি (রহ.) এর শিষ্য দরবেশ শেখ আউয়ালের বংশধর। \""
      ],
      "metadata": {
        "id": "8Ocex8-0u7Oa"
      },
      "execution_count": null,
      "outputs": []
    },
    {
      "cell_type": "code",
      "source": [
        "context"
      ],
      "metadata": {
        "colab": {
          "base_uri": "https://localhost:8080/",
          "height": 52
        },
        "id": "Jo6vXyg1v-k1",
        "outputId": "102cc468-f710-4e96-81da-57c66ae3c86a"
      },
      "execution_count": null,
      "outputs": [
        {
          "output_type": "execute_result",
          "data": {
            "text/plain": [
              "'গোপালগঞ্জ জেলার টুঙ্গিপাড়া গ্রামের এক বনেদি মুসলিম পরিবারে জন্মগ্রহণ করেন জাতির জনক বঙ্গবন্ধু শেখ মুজিবুর রহমান। পিতা শেখ লুৎফর রহমান ও মা সায়েরা খাতুন আদর করে তাকে খোকা বলে ডাকতেন। শেখ মুজিবুর রহমানের পূর্ব-পুরুষরা খ্যাতিমান আউলিয়া বায়েজিত বোস্তমি (রহ.) এর শিষ্য দরবেশ শেখ আউয়ালের বংশধর। '"
            ],
            "application/vnd.google.colaboratory.intrinsic+json": {
              "type": "string"
            }
          },
          "metadata": {},
          "execution_count": 7
        }
      ]
    },
    {
      "cell_type": "code",
      "source": [
        "from transformers import  pipeline\n",
        "\n",
        "\n",
        "\n",
        "\n",
        "nlp = pipeline('question-answering',\n",
        "               model=model_location, tokenizer=model_location)\n",
        "QA_input = {\n",
        "    'question': ' শেখ মুজিবের ডাকনাম কি ছিলো  ?',\n",
        "    'context': context\n",
        "}\n",
        "res = nlp(QA_input)\n",
        "res"
      ],
      "metadata": {
        "colab": {
          "base_uri": "https://localhost:8080/"
        },
        "id": "Voa-07HtwAKd",
        "outputId": "25033ecf-7d72-40d0-ebce-966d89e5c1b0"
      },
      "execution_count": null,
      "outputs": [
        {
          "output_type": "execute_result",
          "data": {
            "text/plain": [
              "{'score': 0.9999741315841675, 'start': 166, 'end': 172, 'answer': ' খোকা'}"
            ]
          },
          "metadata": {},
          "execution_count": 9
        }
      ]
    },
    {
      "cell_type": "code",
      "source": [
        "from transformers import  pipeline\n",
        "\n",
        "\n",
        "\n",
        "\n",
        "nlp = pipeline('question-answering',\n",
        "               model=model_location, tokenizer=model_location)\n",
        "QA_input = {\n",
        "    'question': ' মুজিবের বাবা তাকে কি নামে ডাকতেন  ?',\n",
        "    'context': context\n",
        "}\n",
        "res = nlp(QA_input)\n",
        "res"
      ],
      "metadata": {
        "id": "yBiO8-4Dy-QC",
        "outputId": "a212c15a-c78c-42f0-e2a7-70ad4515a975",
        "colab": {
          "base_uri": "https://localhost:8080/"
        }
      },
      "execution_count": null,
      "outputs": [
        {
          "output_type": "execute_result",
          "data": {
            "text/plain": [
              "{'score': 0.99886155128479, 'start': 166, 'end': 172, 'answer': ' খোকা'}"
            ]
          },
          "metadata": {},
          "execution_count": 13
        }
      ]
    },
    {
      "cell_type": "code",
      "source": [
        "from transformers import  pipeline\n",
        "\n",
        "\n",
        "\n",
        "\n",
        "nlp = pipeline('question-answering',\n",
        "               model=model_location, tokenizer=model_location)\n",
        "QA_input = {\n",
        "    'question': ' জাতির জনকের বাবার নাম কি  ?',\n",
        "    'context': context\n",
        "}\n",
        "res = nlp(QA_input)\n",
        "res"
      ],
      "metadata": {
        "id": "SrnPM8QF0AkW",
        "outputId": "044b2b1a-c991-409a-8c40-7c0a863cff44",
        "colab": {
          "base_uri": "https://localhost:8080/"
        }
      },
      "execution_count": null,
      "outputs": [
        {
          "output_type": "execute_result",
          "data": {
            "text/plain": [
              "{'score': 0.9999966621398926,\n",
              " 'start': 118,\n",
              " 'end': 134,\n",
              " 'answer': ' শেখ লুৎফর রহমান'}"
            ]
          },
          "metadata": {},
          "execution_count": 15
        }
      ]
    },
    {
      "cell_type": "code",
      "source": [
        "another_context = \"১৯৪২ সালে ম্যাট্রিক পাস করে কলকাতায় যান এবং আইএ পড়ার জন্য ইসলামিয়া কলেজে (বর্তমানে মওলানা আবুল কালাম আজাদ কলেজ) ভর্তি হন শেখ মুজিবুর রহমান।ওঠেন বেকার হোস্টেলে, পুরোদমে জড়িয়ে পড়েন মুসলিম লীগের রাজনীতিতে। মুসলিম লীগের প্রগতিশীল অংশের নেতা হোসেন শহীদ সোহরাওয়ার্দীর সংস্পর্শে আসেন এসময়।সিরাজগঞ্জে অবস্থিত প্রাদেশিক মুসলিম লীগের সম্মেলনে ফরিদপুর থেকে বিশাল কর্মী বাহিনী নিয়ে যান মুজিব। ইসলামিয়া কলেজ থেকেই পরবর্তীতে আইএ এবং বিএ পাস করেন বঙ্গবন্ধু।\""
      ],
      "metadata": {
        "id": "NPySdl7wJNK1"
      },
      "execution_count": null,
      "outputs": []
    },
    {
      "cell_type": "code",
      "source": [
        "another_context"
      ],
      "metadata": {
        "id": "V8O2bSQNvDXV",
        "outputId": "c0203920-26a1-4a84-def8-8500fdde86aa",
        "colab": {
          "base_uri": "https://localhost:8080/",
          "height": 87
        }
      },
      "execution_count": null,
      "outputs": [
        {
          "output_type": "execute_result",
          "data": {
            "text/plain": [
              "'১৯৪২ সালে ম্যাট্রিক পাস করে কলকাতায় যান এবং আইএ পড়ার জন্য ইসলামিয়া কলেজে (বর্তমানে মওলানা আবুল কালাম আজাদ কলেজ) ভর্তি হন শেখ মুজিবুর রহমান।ওঠেন বেকার হোস্টেলে, পুরোদমে জড়িয়ে পড়েন মুসলিম লীগের রাজনীতিতে। মুসলিম লীগের প্রগতিশীল অংশের নেতা হোসেন শহীদ সোহরাওয়ার্দীর সংস্পর্শে আসেন এসময়।সিরাজগঞ্জে অবস্থিত প্রাদেশিক মুসলিম লীগের সম্মেলনে ফরিদপুর থেকে বিশাল কর্মী বাহিনী নিয়ে যান মুজিব। ইসলামিয়া কলেজ থেকেই পরবর্তীতে আইএ এবং বিএ পাস করেন বঙ্গবন্ধু।'"
            ],
            "application/vnd.google.colaboratory.intrinsic+json": {
              "type": "string"
            }
          },
          "metadata": {},
          "execution_count": 17
        }
      ]
    },
    {
      "cell_type": "code",
      "source": [
        "nlp = pipeline('question-answering',\n",
        "               model=model_location, tokenizer=model_location)\n",
        "QA_input = {\n",
        "    'question': ' মুসলিম লীগের রাজনীতিতে কতসালে বঙ্গবন্ধু জড়িয়ে পড়েন  ?',\n",
        "    'context': another_context\n",
        "}\n",
        "res = nlp(QA_input)\n",
        "res"
      ],
      "metadata": {
        "id": "4i7uZU1jvEi-",
        "outputId": "50e1cccd-135d-45d1-f119-6352ad476afb",
        "colab": {
          "base_uri": "https://localhost:8080/"
        }
      },
      "execution_count": null,
      "outputs": [
        {
          "output_type": "execute_result",
          "data": {
            "text/plain": [
              "{'score': 0.9971728324890137, 'start': 0, 'end': 4, 'answer': '১৯৪২'}"
            ]
          },
          "metadata": {},
          "execution_count": 18
        }
      ]
    },
    {
      "cell_type": "code",
      "source": [],
      "metadata": {
        "id": "tmbPYpO1vWMC"
      },
      "execution_count": null,
      "outputs": []
    }
  ]
}